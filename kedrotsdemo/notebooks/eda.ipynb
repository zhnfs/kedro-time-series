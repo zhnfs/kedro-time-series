{
 "cells": [
  {
   "cell_type": "markdown",
   "id": "bc30ff4e",
   "metadata": {},
   "source": [
    "# Exploratory Data Analysis (EDA) for Time Series Forecasting\n",
    "\n",
    "This notebook is used for initial exploration of the raw time series data.\n",
    "- Source: `data/01_raw/time_series.csv`\n",
    "- Each column represents a time series channel\n"
   ]
  },
  {
   "cell_type": "code",
   "execution_count": null,
   "id": "b37eb6dc",
   "metadata": {},
   "outputs": [],
   "source": [
    "# Imports\n",
    "import pandas as pd\n",
    "import matplotlib.pyplot as plt\n",
    "import seaborn as sns\n",
    "import numpy as np\n",
    "import warnings\n",
    "warnings.filterwarnings('ignore')\n",
    "%matplotlib inline"
   ]
  },
  {
   "cell_type": "code",
   "execution_count": null,
   "id": "8a6c5cf6",
   "metadata": {},
   "outputs": [],
   "source": [
    "# Load the raw CSV file\n",
    "df = pd.read_csv('data/01_raw/time_series.csv')\n",
    "df.shape"
   ]
  },
  {
   "cell_type": "code",
   "execution_count": null,
   "id": "42da3d4c",
   "metadata": {},
   "outputs": [],
   "source": [
    "# Show head of the dataframe\n",
    "df.head()"
   ]
  },
  {
   "cell_type": "code",
   "execution_count": null,
   "id": "632be670",
   "metadata": {},
   "outputs": [],
   "source": [
    "# Check for missing values\n",
    "df.isnull().sum()"
   ]
  },
  {
   "cell_type": "code",
   "execution_count": null,
   "id": "557e3996",
   "metadata": {},
   "outputs": [],
   "source": [
    "# Summary statistics\n",
    "df.describe()"
   ]
  },
  {
   "cell_type": "code",
   "execution_count": null,
   "id": "17ae005c",
   "metadata": {},
   "outputs": [],
   "source": [
    "# Time series plot for each channel\n",
    "plt.figure(figsize=(14, 6))\n",
    "for col in df.columns:\n",
    "    plt.plot(df[col], label=col)\n",
    "plt.title('Time Series Channels')\n",
    "plt.xlabel('Time')\n",
    "plt.ylabel('Value')\n",
    "plt.legend()\n",
    "plt.grid(True)\n",
    "plt.tight_layout()\n",
    "plt.show()"
   ]
  },
  {
   "cell_type": "code",
   "execution_count": null,
   "id": "a0eb7769",
   "metadata": {},
   "outputs": [],
   "source": [
    "# Plot correlation matrix between channels\n",
    "plt.figure(figsize=(8, 6))\n",
    "sns.heatmap(df.corr(), annot=True, cmap='coolwarm')\n",
    "plt.title('Correlation Matrix')\n",
    "plt.show()"
   ]
  },
  {
   "cell_type": "code",
   "execution_count": null,
   "id": "5260b86b",
   "metadata": {},
   "outputs": [],
   "source": [
    "# Plot rolling mean and std for first channel\n",
    "channel = df.columns[0]\n",
    "rolling_mean = df[channel].rolling(window=100).mean()\n",
    "rolling_std = df[channel].rolling(window=100).std()\n",
    "\n",
    "plt.figure(figsize=(12, 5))\n",
    "plt.plot(df[channel], color='blue', label='Original')\n",
    "plt.plot(rolling_mean, color='red', label='Rolling Mean')\n",
    "plt.plot(rolling_std, color='black', label='Rolling Std')\n",
    "plt.title(f'{channel} - Rolling Mean & Std')\n",
    "plt.legend()\n",
    "plt.show()"
   ]
  },
  {
   "cell_type": "code",
   "execution_count": null,
   "id": "0bc98978",
   "metadata": {},
   "outputs": [],
   "source": [
    "# Plot ACF and PACF for stationarity check (first channel)\n",
    "from statsmodels.graphics.tsaplots import plot_acf, plot_pacf\n",
    "from statsmodels.tsa.stattools import adfuller\n",
    "\n",
    "series = df[channel].dropna()\n",
    "adf_result = adfuller(series)\n",
    "print(f'ADF Statistic: {adf_result[0]}')\n",
    "print(f'p-value: {adf_result[1]}')\n",
    "\n",
    "fig, axes = plt.subplots(1, 2, figsize=(14, 4))\n",
    "plot_acf(series, ax=axes[0])\n",
    "plot_pacf(series, ax=axes[1])\n",
    "plt.suptitle(f'ACF & PACF for {channel}')\n",
    "plt.tight_layout()\n",
    "plt.show()"
   ]
  }
 ],
 "metadata": {},
 "nbformat": 4,
 "nbformat_minor": 5
}
